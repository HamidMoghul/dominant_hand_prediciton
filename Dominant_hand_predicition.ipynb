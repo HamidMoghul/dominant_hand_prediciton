{
  "nbformat": 4,
  "nbformat_minor": 0,
  "metadata": {
    "colab": {
      "name": "Dominant hand predicition.ipynb",
      "provenance": [],
      "collapsed_sections": []
    },
    "kernelspec": {
      "name": "python3",
      "display_name": "Python 3"
    },
    "language_info": {
      "name": "python"
    }
  },
  "cells": [
    {
      "cell_type": "code",
      "source": [
        "%%capture\n",
        "\n",
        "!pip install category_encoders==2.*\n",
        "!pip install pandas_profiling==2.*"
      ],
      "metadata": {
        "id": "hW5AZQpphXI6"
      },
      "execution_count": 1,
      "outputs": []
    },
    {
      "cell_type": "code",
      "source": [
        "from category_encoders import OrdinalEncoder\n",
        "from sklearn.ensemble import RandomForestClassifier\n",
        "from sklearn.model_selection import train_test_split\n",
        "from sklearn.metrics import accuracy_score\n",
        "from sklearn.impute import SimpleImputer\n",
        "from sklearn.model_selection import cross_val_score, validation_curve # k-fold CV\n",
        "from sklearn.model_selection import GridSearchCV, RandomizedSearchCV # Hyperparameter tuning\n",
        "from sklearn.pipeline import make_pipeline\n",
        "from sklearn.tree import DecisionTreeClassifier\n",
        "import numpy as np\n",
        "import matplotlib.pyplot as plt"
      ],
      "metadata": {
        "colab": {
          "base_uri": "https://localhost:8080/"
        },
        "id": "XIkMaHgyhXFY",
        "outputId": "a0fbbdba-c9f9-4a47-b144-14a596f09c11"
      },
      "execution_count": 2,
      "outputs": [
        {
          "output_type": "stream",
          "name": "stderr",
          "text": [
            "/usr/local/lib/python3.7/dist-packages/statsmodels/tools/_testing.py:19: FutureWarning: pandas.util.testing is deprecated. Use the functions in the public API at pandas.testing instead.\n",
            "  import pandas.util.testing as tm\n"
          ]
        }
      ]
    },
    {
      "cell_type": "code",
      "source": [
        "import pandas as pd\n",
        "directory=pd.read_csv('/content/both_gender.csv')\n",
        "\n",
        "pd.set_option('display.max_columns', None)\n",
        "print(directory.shape)\n",
        "\n",
        "directory.head(2)"
      ],
      "metadata": {
        "id": "85RCD7awh5Xy"
      },
      "execution_count": null,
      "outputs": []
    },
    {
      "cell_type": "code",
      "source": [
        "def wrangle(me):\n",
        "  df=pd.read_csv(me, index_col='id').sort_index()\n",
        "  df.drop(['Unnamed: 0'], axis=1, inplace=True)\n",
        "\n",
        "  # select only demographic features:\n",
        "  # df=df[['age','race','education','pregnancy','inc_poverty_ratio',\n",
        "  # 'hr_60sec','pulse_60sec','pulse_regularity','pulse_type','systol1','diastol1','systol2',\n",
        "  # 'diastol2','systol3','diastol3','systol4','diastol4',\n",
        "  # 'weight','head_circum','height',\n",
        "  # 'leg_cm','arm_cm','arm_circum','waist_circum','pregnant_or_breastfeeding','dominant_hand','hemoglobin']]\n",
        "  # filter observations with age>18 years of age\n",
        "  # df = df[df['age'] >=18] \n",
        "\n",
        "  # drop columns with NaN values (>50%)\n",
        "  df.dropna(axis=1, thresh=2431, inplace = True)\n",
        "\n",
        "  # create a new feature for mean of systolic and then drop sys1, sys2, sys3\n",
        "  df['systolic_bp'] = (df['systol1'] + df['systol2'] + df['systol3'])/3\n",
        "  df.drop(columns= ['systol1','systol2','systol3'], inplace=True)\n",
        "  # create new feature for mean of diastolic and then drop dias1, dias2, dias3\n",
        "  df['diastolic_bp'] = (df['diastol1']+df['diastol2']+df['diastol3'])/3\n",
        "  df.drop(columns= ['diastol1','diastol2','diastol3'], inplace=True)\n",
        "\n",
        "  # create target vector (anemia), and drop 'hemoglobin'\n",
        "  # df.loc[(df['hemoglobin'] <12), 'anemia'] = 1\n",
        "  # df.loc[(df['hemoglobin'] >=12), 'anemia'] = 0\n",
        "  # df.drop(columns= ['hemoglobin'], inplace=True)\n",
        "  # change dtype:\n",
        "  # df[['anemia']] = df['anemia'].astype(int)\n",
        "  # df[['education']] = df['education'].astype(int)\n",
        "  # df[['dominant_hand']] = df['dominant_hand'].astype(int)\n",
        "  # drop any row with a missing value\n",
        "  df.dropna(axis=0, how='any', inplace=True)\n",
        "\n",
        "  # sort column by their names\n",
        "  df = df.reindex(sorted(df.columns), axis=1)\n",
        "\n",
        "  return df\n",
        "\n",
        "df = wrangle('/content/both_gender.csv')\n"
      ],
      "metadata": {
        "id": "pMMRIep8jMvL"
      },
      "execution_count": 10,
      "outputs": []
    },
    {
      "cell_type": "code",
      "execution_count": 12,
      "metadata": {
        "colab": {
          "base_uri": "https://localhost:8080/"
        },
        "id": "BBxbAxLYg-mh",
        "outputId": "c83193bf-4a51-4e2a-fe6a-63f0a38d7906"
      },
      "outputs": [
        {
          "output_type": "execute_result",
          "data": {
            "text/plain": [
              "((985, 39), (985,))"
            ]
          },
          "metadata": {},
          "execution_count": 12
        }
      ],
      "source": [
        "target = 'dominant_hand'\n",
        "y = df[target]\n",
        "X = df.drop(columns=target)\n",
        "X.shape, y.shape"
      ]
    },
    {
      "cell_type": "code",
      "source": [
        "X.columns"
      ],
      "metadata": {
        "colab": {
          "base_uri": "https://localhost:8080/"
        },
        "id": "9VHMMXXnkMwc",
        "outputId": "2f6e2de2-d11f-4579-a3cb-72b73b6f0885"
      },
      "execution_count": 16,
      "outputs": [
        {
          "output_type": "execute_result",
          "data": {
            "text/plain": [
              "Index(['age', 'arm_circum', 'arm_cm', 'basophil_pct', 'birth_country', 'bmi',\n",
              "       'diastolic_bp', 'education', 'eosinophil_pct', 'gender', 'hdl',\n",
              "       'height', 'hematocrit', 'hemoglobin', 'hepatitis_a_antibody',\n",
              "       'hepatitis_b_antibody', 'herpes_simplex1', 'herpes_simplex1.1',\n",
              "       'inc_poverty_ratio', 'ldl', 'leg_cm', 'lymphocyte_pct', 'mchc',\n",
              "       'mean_cell_hemoglobin', 'mean_cell_vol', 'monocyte_pct',\n",
              "       'platelet_count', 'pulse_60sec', 'pulse_regularity', 'pulse_type',\n",
              "       'race', 'rbc_count', 'seg_neutrophil_pct', 'systolic_bp', 'total_chol',\n",
              "       'triglyceride', 'waist_circum', 'weight', 'white_blood_count'],\n",
              "      dtype='object')"
            ]
          },
          "metadata": {},
          "execution_count": 16
        }
      ]
    },
    {
      "cell_type": "code",
      "source": [
        "y"
      ],
      "metadata": {
        "id": "HpApJddgkaOe"
      },
      "execution_count": null,
      "outputs": []
    },
    {
      "cell_type": "code",
      "source": [
        "y.value_counts()"
      ],
      "metadata": {
        "colab": {
          "base_uri": "https://localhost:8080/"
        },
        "id": "3KYOXnQdjhsz",
        "outputId": "d8e3d4bd-c4a1-47e1-de3a-f0ef2c7b0899"
      },
      "execution_count": 13,
      "outputs": [
        {
          "output_type": "execute_result",
          "data": {
            "text/plain": [
              "1.0    893\n",
              "2.0     72\n",
              "3.0     20\n",
              "Name: dominant_hand, dtype: int64"
            ]
          },
          "metadata": {},
          "execution_count": 13
        }
      ]
    },
    {
      "cell_type": "code",
      "source": [
        "#Train_ and Test split \n",
        "X_train_, X_test, y_train_, y_test = train_test_split(X, y , test_size=0.2)\n",
        "\n",
        "from imblearn.over_sampling import SMOTE\n",
        "from collections import Counter\n",
        "\n",
        "\n",
        "smote = SMOTE()\n",
        "\n",
        "# fit predictor and target variable\n",
        "X_smote, y_smote = smote.fit_resample(X_train_, y_train_)\n",
        "\n",
        "X_train, X_val, y_train, y_val = train_test_split(X_smote, y_smote, test_size=0.25)\n",
        "\n",
        "print('Original dataset shape', Counter(y))\n",
        "print('Resample dataset shape', Counter(y_smote))"
      ],
      "metadata": {
        "colab": {
          "base_uri": "https://localhost:8080/"
        },
        "id": "wVxPmWvhjpLa",
        "outputId": "30ccfde1-c0f8-44f6-a727-c6bdf122887b"
      },
      "execution_count": 33,
      "outputs": [
        {
          "output_type": "stream",
          "name": "stdout",
          "text": [
            "Original dataset shape Counter({1.0: 893, 2.0: 72, 3.0: 20})\n",
            "Resample dataset shape Counter({1.0: 717, 2.0: 717, 3.0: 717})\n"
          ]
        }
      ]
    },
    {
      "cell_type": "code",
      "source": [
        "print('baseline accuracy:', y_train.value_counts(normalize=True).max())"
      ],
      "metadata": {
        "colab": {
          "base_uri": "https://localhost:8080/"
        },
        "id": "K5yuznEskFas",
        "outputId": "8fad1af2-ae35-48c6-b865-8066f775f1c2"
      },
      "execution_count": 34,
      "outputs": [
        {
          "output_type": "stream",
          "name": "stdout",
          "text": [
            "baseline accuracy: 0.3341599504029758\n"
          ]
        }
      ]
    },
    {
      "cell_type": "code",
      "source": [
        "model_randomf = make_pipeline(\n",
        "    OrdinalEncoder(),\n",
        "    SimpleImputer(),\n",
        "    RandomForestClassifier(random_state=42, n_jobs=-1)\n",
        ")\n",
        "\n",
        "model_randomf.fit(X_train, y_train);\n",
        "\n",
        "print('FOREST: Training Accuracy:',model_randomf.score(X_train, y_train))\n",
        "\n",
        "print('FOREST: Test Accuracy:',model_randomf.score(X_test, y_test))"
      ],
      "metadata": {
        "colab": {
          "base_uri": "https://localhost:8080/"
        },
        "id": "Yfd655Sqkmsi",
        "outputId": "ee10cf4e-4a22-41f7-f49f-ad5b668c97b4"
      },
      "execution_count": 35,
      "outputs": [
        {
          "output_type": "stream",
          "name": "stdout",
          "text": [
            "Warning: No categorical columns found. Calling 'transform' will only return input data.\n",
            "FOREST: Training Accuracy: 1.0\n",
            "FOREST: Test Accuracy: 0.8730964467005076\n"
          ]
        }
      ]
    },
    {
      "cell_type": "code",
      "source": [
        "features = model_randomf.named_steps['ordinalencoder'].get_feature_names()\n",
        "gini = model_randomf.named_steps['randomforestclassifier'].feature_importances_\n",
        "pd.Series(data=gini, index=features).sort_values(key=abs).tail(11).plot(kind='barh')\n",
        "plt.ylabel('features')\n",
        "plt.xlabel('gini importance');"
      ],
      "metadata": {
        "colab": {
          "base_uri": "https://localhost:8080/",
          "height": 279
        },
        "id": "8rybERhts3MO",
        "outputId": "adc8013e-d7b9-44a3-e1dc-a0b216380ffe"
      },
      "execution_count": 49,
      "outputs": [
        {
          "output_type": "display_data",
          "data": {
            "text/plain": [
              "<Figure size 432x288 with 1 Axes>"
            ],
            "image/png": "[encoded data removed]"
          },
          "metadata": {
            "needs_background": "light"
          }
        }
      ]
    },
    {
      "cell_type": "code",
      "source": [
        "predictions = pd.DataFrame(data=model_randomf.predict(X_test), index=X_test.index)\n",
        "df['predictions'] = predictions"
      ],
      "metadata": {
        "id": "13G9HCoRntpS"
      },
      "execution_count": 36,
      "outputs": []
    },
    {
      "cell_type": "code",
      "source": [
        "predictions.value_counts()"
      ],
      "metadata": {
        "colab": {
          "base_uri": "https://localhost:8080/"
        },
        "id": "1bvl0X5qn9Hl",
        "outputId": "5bd239f8-75fe-43ed-f07a-0b38576582c6"
      },
      "execution_count": 46,
      "outputs": [
        {
          "output_type": "execute_result",
          "data": {
            "text/plain": [
              "1.0    193\n",
              "2.0      4\n",
              "dtype: int64"
            ]
          },
          "metadata": {},
          "execution_count": 46
        }
      ]
    },
    {
      "cell_type": "code",
      "source": [
        ""
      ],
      "metadata": {
        "id": "-S_UhJ9OsTBC"
      },
      "execution_count": null,
      "outputs": []
    }
  ]
}